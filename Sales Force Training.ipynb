{
 "cells": [
  {
   "cell_type": "code",
   "execution_count": 2,
   "id": "0bf69793",
   "metadata": {},
   "outputs": [],
   "source": [
    "import pandas as pd\n",
    "\n",
    "data = {'TransactionAmount': [100, 150, 50, 100, 130, 120, 100, 85, 70, 150, 150, 120, 50, 100, 100, 140, 90, 150, 50, 90, 120, 100, 110, 75, 65]}\n",
    "df = pd.DataFrame(data)\n"
   ]
  },
  {
   "cell_type": "code",
   "execution_count": 5,
   "id": "8a6820cf",
   "metadata": {},
   "outputs": [
    {
     "name": "stdout",
     "output_type": "stream",
     "text": [
      "Mean: 102.6\n",
      "Median: 100.0\n",
      "Mode: 100\n"
     ]
    }
   ],
   "source": [
    "mean = df['TransactionAmount'].mean()\n",
    "median = df['TransactionAmount'].median()\n",
    "mode = df['TransactionAmount'].mode().values[0]\n",
    "\n",
    "print(\"Mean:\", mean)\n",
    "print(\"Median:\", median)\n",
    "print(\"Mode:\", mode)\n"
   ]
  },
  {
   "cell_type": "code",
   "execution_count": 6,
   "id": "1523ecb6",
   "metadata": {},
   "outputs": [
    {
     "name": "stdout",
     "output_type": "stream",
     "text": [
      "Standard Deviation: 31.82373328193912\n",
      "Variance: 1012.7499999999997\n",
      "Range: 100\n"
     ]
    }
   ],
   "source": [
    "std = df['TransactionAmount'].std()\n",
    "var = df['TransactionAmount'].var()\n",
    "range_val = df['TransactionAmount'].max() - df['TransactionAmount'].min()\n",
    "\n",
    "print(\"Standard Deviation:\", std)\n",
    "print(\"Variance:\", var)\n",
    "print(\"Range:\", range_val)\n"
   ]
  },
  {
   "cell_type": "code",
   "execution_count": 7,
   "id": "7dcdb522",
   "metadata": {},
   "outputs": [
    {
     "name": "stdout",
     "output_type": "stream",
     "text": [
      "T-Statistic: 0.4085001556802841\n",
      "P-Value: 0.6865284813438117\n"
     ]
    }
   ],
   "source": [
    "from scipy import stats\n",
    "\n",
    "alpha = 0.05\n",
    "population_mean = 100  # Rata-rata penjualan sebelumnya\n",
    "\n",
    "t_statistic, p_value = stats.ttest_1samp(df['TransactionAmount'], population_mean)\n",
    "\n",
    "print(\"T-Statistic:\", t_statistic)\n",
    "print(\"P-Value:\", p_value)\n"
   ]
  },
  {
   "cell_type": "markdown",
   "id": "108335c6",
   "metadata": {},
   "source": [
    "No.4 \n",
    "\n",
    "Menentukan H0 dan H1 untuk persiapan dilakukan T-Test:\n",
    "H0 (Hipotesis Nol): Training kepada pekerja sales tidak memiliki pengaruh signifikan terhadap rata-rata jumlah transaksi.\n",
    "\n",
    "H1 (Hipotesis Alternatif): Training kepada pekerja sales memiliki pengaruh signifikan terhadap rata-rata jumlah transaksi.\n"
   ]
  },
  {
   "cell_type": "markdown",
   "id": "3f665ef5",
   "metadata": {},
   "source": [
    "NO.5\n",
    "\n",
    "Dalam langkah ke-5, kita memperoleh t-statistik dan p-value dari pengujian T-Test. Jika p-value kurang dari alpha yang ditetapkan (0.05), maka kita dapat menolak hipotesis nol (H0) dan menerima hipotesis alternatif (H1). Ini berarti bahwa training kepada pekerja sales memiliki pengaruh signifikan terhadap rata-rata jumlah transaksi. Jika p-value lebih besar dari alpha, maka kita gagal menolak hipotesis nol dan tidak dapat menyimpulkan bahwa training memiliki pengaruh signifikan.\n",
    "\n",
    "Anda dapat menggunakan langkah-langkah di atas untuk menganalisis data penjualan dan mengambil kesimpulan berdasarkan hasil pengujian T-Test yang dilakukan.\n"
   ]
  },
  {
   "cell_type": "code",
   "execution_count": null,
   "id": "64da837b",
   "metadata": {},
   "outputs": [],
   "source": []
  }
 ],
 "metadata": {
  "kernelspec": {
   "display_name": "Python 3 (ipykernel)",
   "language": "python",
   "name": "python3"
  },
  "language_info": {
   "codemirror_mode": {
    "name": "ipython",
    "version": 3
   },
   "file_extension": ".py",
   "mimetype": "text/x-python",
   "name": "python",
   "nbconvert_exporter": "python",
   "pygments_lexer": "ipython3",
   "version": "3.9.13"
  }
 },
 "nbformat": 4,
 "nbformat_minor": 5
}
